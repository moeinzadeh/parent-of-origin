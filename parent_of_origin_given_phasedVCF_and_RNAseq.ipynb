{
 "cells": [
  {
   "cell_type": "markdown",
   "metadata": {},
   "source": [
    "# Readme\n"
   ]
  },
  {
   "cell_type": "raw",
   "metadata": {},
   "source": [
    "exclude unphased variants \n",
    "exclude multinucleotide variants\n",
    "mapping quality is minimum is 255\n",
    "\n",
    "samtools view L18098Aligned.sortedByCoord.out.bam | cut -f 5 | sort -nr | uniq -c | head \n",
    "89282132 255\n",
    "7706264 3\n",
    "2162614 1\n",
    "927020 0\n"
   ]
  },
  {
   "cell_type": "markdown",
   "metadata": {},
   "source": [
    "# Code "
   ]
  },
  {
   "cell_type": "code",
   "execution_count": 87,
   "metadata": {},
   "outputs": [
    {
     "name": "stdout",
     "output_type": "stream",
     "text": [
      "done\n"
     ]
    }
   ],
   "source": [
    "# import numpy as np\n",
    "import vcf\n",
    "import pysam\n",
    "import pandas as pd\n",
    "import seaborn as sns\n",
    "import matplotlib.pyplot as plt\n",
    "import math\n",
    "\n",
    "\n",
    "def count_reads(chrm, view_start, view_end, samfiles, vcf_reader):\n",
    "    mother = []\n",
    "    father = []\n",
    "    coordinates = []\n",
    "    mother_is_ref = []\n",
    "    replicate = []\n",
    "\n",
    "    for Record in vcf_reader.fetch(chrm, view_start, view_end):  # doctest: +SKIP\n",
    "        genotype = Record.genotype(individual_name)['GT']\n",
    "\n",
    "        # not phased or homozygous\n",
    "        if not (\"|\" == genotype[1]) or genotype[0]==genotype[2]:\n",
    "            continue\n",
    "\n",
    "        # multi nucleotide polymorphism\n",
    "        one_nc_snp = True\n",
    "        for var in Record.ALT:\n",
    "            if len(var) > 1:\n",
    "                one_nc_snp = False\n",
    "        if len(Record.REF) > 1 or not one_nc_snp:\n",
    "            continue\n",
    "\n",
    "\n",
    "        snp = Record.POS\n",
    "        mp_cnt = {}\n",
    "\n",
    "        bo_first = True\n",
    "        for rep, samfile in zip(range(3),samfiles):\n",
    "            for pileupcolumn in samfile.pileup(chrm, snp - 1, snp):\n",
    "                if bo_first:\n",
    "                    bo_first = False\n",
    "                    #print(Record.CHROM, Record.POS, Record.ID, Record.REF, Record.ALT, Record.genotype(individual_name)['GT'])\n",
    "                if pileupcolumn.pos == snp - 1:\n",
    "                    for pileupread in pileupcolumn.pileups:\n",
    "                        if not pileupread.is_del and pileupread.alignment.mapping_quality >= 255:\n",
    "                            mp_cnt[pileupread.alignment.query_sequence[pileupread.query_position]] = mp_cnt.get(\n",
    "                                pileupread.alignment.query_sequence[pileupread.query_position], 0) + 1\n",
    "            \n",
    "            # mapping quality is lower \n",
    "            if len(mp_cnt) == 0:\n",
    "                continue\n",
    "            \n",
    "            vars = [Record.REF] + [str(v) for v in Record.ALT]\n",
    "            coordinates += [Record.POS]\n",
    "            replicate += [rep]\n",
    "            \n",
    "            #print (mp_cnt,vars)\n",
    "            mothers_allele = vars[int(genotype[0])]\n",
    "            fathers_allele = vars[int(genotype[2])]\n",
    "            \n",
    "            if mothers_allele in mp_cnt:\n",
    "                mother += [mp_cnt[mothers_allele]]\n",
    "            else:\n",
    "                mother += [0]\n",
    "\n",
    "            if fathers_allele in mp_cnt:\n",
    "                father += [mp_cnt[fathers_allele]]\n",
    "            else:\n",
    "                father += [0]\n",
    "            #print (mother[-1],father[-1])\n",
    "            \n",
    "            if genotype[0] == \"0\":\n",
    "                mother_is_ref += [True]\n",
    "            else:\n",
    "                mother_is_ref += [False]\n",
    "\n",
    "\n",
    "    m = np.array(mother, dtype=np.float)\n",
    "    f = np.array(father, dtype=np.float)\n",
    "    c = np.array(coordinates, dtype=np.int)\n",
    "    ref = np.array(mother_is_ref, dtype=np.bool)\n",
    "    rep = np.array(replicate,dtype=np.int)\n",
    "    return m, f, c, ref,rep\n",
    "\n",
    "\n",
    "\n",
    "def set_inputfiles():\n",
    "\tRNAseqbams = ['L18098Aligned.sortedByCoord.out.bam',  'L18099Aligned.sortedByCoord.out.bam',  'L18100Aligned.sortedByCoord.out.bam']\n",
    "\tpath = '/confidential/FamilyR13_data/moeinzadeh/ossifican_progressiva/'\n",
    "\tbams = [ pysam.AlignmentFile(path + f) for f in RNAseqbams]\n",
    "\tvcf_reader = vcf.Reader(open(\n",
    "\t\t'/confidential/FamilyR13_data/moeinzadeh/ossifican_progressiva/brusco_uwcmg_eho_1.HF.final.phased.vcf.gz'))\n",
    "\tindividual_name = '176126'\n",
    "\tnames = ['0','1','2']\n",
    "\treturn  bams,vcf_reader, names, individual_name\n",
    "\n",
    "\n",
    "\n",
    "\n",
    "\n",
    "\n",
    "sams,vcf_reader,names,individual_name = set_inputfiles()\n",
    "\n",
    "df_main = pd.DataFrame({'Mother':[], 'Father':[],'Coordinate':[],'MotherIsRef':[], 'Rep': []})\n",
    "\n",
    "for inx_replicate in range(3):\n",
    "\n",
    "    genomic_region = 0\n",
    "    if genomic_region == 0:\n",
    "        interval_string = 'X:1-155270560'\n",
    "        interval_string = 'X:153070560-155270560'\n",
    "        open_left_region = 0\n",
    "        open_right_region = 0\n",
    "        SV_type = \"???\"\n",
    "        sample_name = \"---\"\n",
    "\n",
    "\n",
    "    interval = interval_string.replace(\",\",'')\n",
    "    chrm = interval.split(\":\")[0]\n",
    "    sv_start = int(interval.split(\":\")[1].split(\"-\")[0])\n",
    "    sv_end = int(interval.split(\":\")[1].split(\"-\")[1])\n",
    "    view_start = sv_start - open_left_region\n",
    "    view_end = sv_end + open_right_region\n",
    "    sample = sample_name + \", \" + SV_type + \"\\n\" + interval_string\n",
    "    m,f,c,ref,rep= count_reads(chrm,view_start,view_end,sams,vcf_reader)\n",
    "    d = {'Mother':m, 'Father':f,'Coordinate':c,'MotherIsRef':ref, 'Rep': rep}\n",
    "    df_main = df_main.append(pd.DataFrame(d))\n",
    "\n",
    "df_main['Ratio'] = df_main['Mother'] / df_main['Father']\n",
    "print ('done')"
   ]
  },
  {
   "cell_type": "code",
   "execution_count": 88,
   "metadata": {},
   "outputs": [
    {
     "data": {
      "text/html": [
       "<div>\n",
       "<style scoped>\n",
       "    .dataframe tbody tr th:only-of-type {\n",
       "        vertical-align: middle;\n",
       "    }\n",
       "\n",
       "    .dataframe tbody tr th {\n",
       "        vertical-align: top;\n",
       "    }\n",
       "\n",
       "    .dataframe thead th {\n",
       "        text-align: right;\n",
       "    }\n",
       "</style>\n",
       "<table border=\"1\" class=\"dataframe\">\n",
       "  <thead>\n",
       "    <tr style=\"text-align: right;\">\n",
       "      <th></th>\n",
       "      <th>Coordinate</th>\n",
       "      <th>Father</th>\n",
       "      <th>Mother</th>\n",
       "      <th>MotherIsRef</th>\n",
       "      <th>Rep</th>\n",
       "      <th>Ratio</th>\n",
       "    </tr>\n",
       "  </thead>\n",
       "  <tbody>\n",
       "    <tr>\n",
       "      <th>0</th>\n",
       "      <td>153073319.0</td>\n",
       "      <td>0.0</td>\n",
       "      <td>2.0</td>\n",
       "      <td>0.0</td>\n",
       "      <td>0.0</td>\n",
       "      <td>inf</td>\n",
       "    </tr>\n",
       "    <tr>\n",
       "      <th>1</th>\n",
       "      <td>153073319.0</td>\n",
       "      <td>0.0</td>\n",
       "      <td>2.0</td>\n",
       "      <td>0.0</td>\n",
       "      <td>1.0</td>\n",
       "      <td>inf</td>\n",
       "    </tr>\n",
       "    <tr>\n",
       "      <th>2</th>\n",
       "      <td>153073319.0</td>\n",
       "      <td>0.0</td>\n",
       "      <td>2.0</td>\n",
       "      <td>0.0</td>\n",
       "      <td>2.0</td>\n",
       "      <td>inf</td>\n",
       "    </tr>\n",
       "    <tr>\n",
       "      <th>3</th>\n",
       "      <td>153088219.0</td>\n",
       "      <td>0.0</td>\n",
       "      <td>1.0</td>\n",
       "      <td>0.0</td>\n",
       "      <td>1.0</td>\n",
       "      <td>inf</td>\n",
       "    </tr>\n",
       "    <tr>\n",
       "      <th>4</th>\n",
       "      <td>153088219.0</td>\n",
       "      <td>0.0</td>\n",
       "      <td>3.0</td>\n",
       "      <td>0.0</td>\n",
       "      <td>2.0</td>\n",
       "      <td>inf</td>\n",
       "    </tr>\n",
       "  </tbody>\n",
       "</table>\n",
       "</div>"
      ],
      "text/plain": [
       "    Coordinate  Father  Mother  MotherIsRef  Rep  Ratio\n",
       "0  153073319.0     0.0     2.0          0.0  0.0    inf\n",
       "1  153073319.0     0.0     2.0          0.0  1.0    inf\n",
       "2  153073319.0     0.0     2.0          0.0  2.0    inf\n",
       "3  153088219.0     0.0     1.0          0.0  1.0    inf\n",
       "4  153088219.0     0.0     3.0          0.0  2.0    inf"
      ]
     },
     "execution_count": 88,
     "metadata": {},
     "output_type": "execute_result"
    }
   ],
   "source": [
    "df_main.head()"
   ]
  },
  {
   "cell_type": "code",
   "execution_count": 89,
   "metadata": {},
   "outputs": [
    {
     "data": {
      "text/plain": [
       "(0, 300)"
      ]
     },
     "execution_count": 89,
     "metadata": {},
     "output_type": "execute_result"
    },
    {
     "data": {
      "image/png": "[encoded data removed]",
      "text/plain": [
       "<Figure size 411.875x360 with 1 Axes>"
      ]
     },
     "metadata": {
      "needs_background": "light"
     },
     "output_type": "display_data"
    }
   ],
   "source": [
    "df_main_removeInf = df_main[(df_main['Mother'] != 0.0) & (df_main['Father'] != 0.0)]\n",
    "sns.lmplot(x='Mother',y='Father',hue='Rep',data=df_main_removeInf,markers=['o','x','.'])\n",
    "ax = plt.gca()\n",
    "ax.set_title(\"Read count per SNP\")\n",
    "ax.set_xlim(0,300)\n",
    "ax.set_ylim(0,300)"
   ]
  },
  {
   "cell_type": "code",
   "execution_count": 90,
   "metadata": {},
   "outputs": [
    {
     "data": {
      "text/html": [
       "<div>\n",
       "<style scoped>\n",
       "    .dataframe tbody tr th:only-of-type {\n",
       "        vertical-align: middle;\n",
       "    }\n",
       "\n",
       "    .dataframe tbody tr th {\n",
       "        vertical-align: top;\n",
       "    }\n",
       "\n",
       "    .dataframe thead th {\n",
       "        text-align: right;\n",
       "    }\n",
       "</style>\n",
       "<table border=\"1\" class=\"dataframe\">\n",
       "  <thead>\n",
       "    <tr style=\"text-align: right;\">\n",
       "      <th></th>\n",
       "      <th>Coordinate</th>\n",
       "      <th>Father</th>\n",
       "      <th>Mother</th>\n",
       "      <th>MotherIsRef</th>\n",
       "      <th>Rep</th>\n",
       "      <th>Ratio</th>\n",
       "    </tr>\n",
       "  </thead>\n",
       "  <tbody>\n",
       "    <tr>\n",
       "      <th>31</th>\n",
       "      <td>153195393.0</td>\n",
       "      <td>4.0</td>\n",
       "      <td>28.0</td>\n",
       "      <td>0.0</td>\n",
       "      <td>0.0</td>\n",
       "      <td>7.000</td>\n",
       "    </tr>\n",
       "    <tr>\n",
       "      <th>32</th>\n",
       "      <td>153195393.0</td>\n",
       "      <td>8.0</td>\n",
       "      <td>53.0</td>\n",
       "      <td>0.0</td>\n",
       "      <td>1.0</td>\n",
       "      <td>6.625</td>\n",
       "    </tr>\n",
       "    <tr>\n",
       "      <th>33</th>\n",
       "      <td>153195393.0</td>\n",
       "      <td>20.0</td>\n",
       "      <td>73.0</td>\n",
       "      <td>0.0</td>\n",
       "      <td>2.0</td>\n",
       "      <td>3.650</td>\n",
       "    </tr>\n",
       "    <tr>\n",
       "      <th>34</th>\n",
       "      <td>153195921.0</td>\n",
       "      <td>1.0</td>\n",
       "      <td>1.0</td>\n",
       "      <td>0.0</td>\n",
       "      <td>0.0</td>\n",
       "      <td>1.000</td>\n",
       "    </tr>\n",
       "    <tr>\n",
       "      <th>35</th>\n",
       "      <td>153195921.0</td>\n",
       "      <td>2.0</td>\n",
       "      <td>6.0</td>\n",
       "      <td>0.0</td>\n",
       "      <td>1.0</td>\n",
       "      <td>3.000</td>\n",
       "    </tr>\n",
       "  </tbody>\n",
       "</table>\n",
       "</div>"
      ],
      "text/plain": [
       "     Coordinate  Father  Mother  MotherIsRef  Rep  Ratio\n",
       "31  153195393.0     4.0    28.0          0.0  0.0  7.000\n",
       "32  153195393.0     8.0    53.0          0.0  1.0  6.625\n",
       "33  153195393.0    20.0    73.0          0.0  2.0  3.650\n",
       "34  153195921.0     1.0     1.0          0.0  0.0  1.000\n",
       "35  153195921.0     2.0     6.0          0.0  1.0  3.000"
      ]
     },
     "execution_count": 90,
     "metadata": {},
     "output_type": "execute_result"
    }
   ],
   "source": [
    "df_main_removeInf.head()\n"
   ]
  },
  {
   "cell_type": "code",
   "execution_count": 91,
   "metadata": {},
   "outputs": [
    {
     "data": {
      "text/plain": [
       "(0, 1029.0)"
      ]
     },
     "execution_count": 91,
     "metadata": {},
     "output_type": "execute_result"
    },
    {
     "data": {
      "image/png": "[encoded data removed]",
      "text/plain": [
       "<Figure size 411.875x360 with 1 Axes>"
      ]
     },
     "metadata": {
      "needs_background": "light"
     },
     "output_type": "display_data"
    }
   ],
   "source": [
    "sns.lmplot(x='Mother',y='Father',hue='Rep',data=df_main_removeInf,markers=['o','x','.'])\n",
    "ax = plt.gca()\n",
    "ax.set_title(\"Read count per SNP\")\n",
    "mx = max(df_main_removeInf['Mother'].max(), df_main_removeInf['Father'].max())\n",
    "ax.set_xlim(0,mx)\n",
    "ax.set_ylim(0,mx)\n",
    "\n"
   ]
  },
  {
   "cell_type": "code",
   "execution_count": 92,
   "metadata": {},
   "outputs": [
    {
     "data": {
      "image/png": "[encoded data removed]",
      "text/plain": [
       "<Figure size 432x288 with 1 Axes>"
      ]
     },
     "metadata": {
      "needs_background": "light"
     },
     "output_type": "display_data"
    },
    {
     "data": {
      "image/png": "[encoded data removed]",
      "text/plain": [
       "<Figure size 432x288 with 1 Axes>"
      ]
     },
     "metadata": {
      "needs_background": "light"
     },
     "output_type": "display_data"
    }
   ],
   "source": [
    "plt.figure()\n",
    "ax = sns.boxplot(x='Rep',y='Ratio',data=df_main_removeInf,hue='MotherIsRef')\n",
    "ax.set_yscale('log')\n",
    "\n",
    "\n",
    "plt.figure()\n",
    "ax = sns.boxplot(x='Rep',y='Ratio',data=df_main_removeInf)\n",
    "ax.set_yscale('log')"
   ]
  },
  {
   "cell_type": "code",
   "execution_count": 93,
   "metadata": {},
   "outputs": [],
   "source": [
    "#df_zero = df_main[(df_main['Mother']==0.0) | (df_main['Father']==0.0) ]\n",
    "only_mother = df_main['Father'] == 0.0\n",
    "only_father = df_main['Mother'] == 0.0\n",
    "\n",
    "df_main['Status'] = np.where(only_mother, 'Only mother', np.where(only_father,'Only father','Both'))\n",
    "df_main['Sum count'] = df_main['Mother'] + df_main['Father']\n",
    "#ax = sns.boxplot(x='Rep',y='Mother',data=df_main[df_main['False'])"
   ]
  },
  {
   "cell_type": "code",
   "execution_count": 94,
   "metadata": {},
   "outputs": [
    {
     "data": {
      "image/png": "[encoded data removed]",
      "text/plain": [
       "<Figure size 432x288 with 1 Axes>"
      ]
     },
     "metadata": {
      "needs_background": "light"
     },
     "output_type": "display_data"
    }
   ],
   "source": [
    "ax = sns.boxplot(x='Status',y='Sum count',data=df_main)\n",
    "ax.set_yscale('log')\n"
   ]
  },
  {
   "cell_type": "code",
   "execution_count": 95,
   "metadata": {},
   "outputs": [
    {
     "data": {
      "image/png": "[encoded data removed]",
      "text/plain": [
       "<Figure size 432x288 with 1 Axes>"
      ]
     },
     "metadata": {
      "needs_background": "light"
     },
     "output_type": "display_data"
    }
   ],
   "source": [
    "ax = sns.boxplot(x = 'variable', y = 'value', data=pd.melt(df_main[['Mother','Father']]))\n",
    "ax.set_yscale('log')"
   ]
  },
  {
   "cell_type": "code",
   "execution_count": null,
   "metadata": {},
   "outputs": [],
   "source": []
  },
  {
   "cell_type": "code",
   "execution_count": null,
   "metadata": {},
   "outputs": [],
   "source": []
  }
 ],
 "metadata": {
  "kernelspec": {
   "display_name": "Python 2",
   "language": "python",
   "name": "python2"
  },
  "language_info": {
   "codemirror_mode": {
    "name": "ipython",
    "version": 2
   },
   "file_extension": ".py",
   "mimetype": "text/x-python",
   "name": "python",
   "nbconvert_exporter": "python",
   "pygments_lexer": "ipython2",
   "version": "2.7.15"
  }
 },
 "nbformat": 4,
 "nbformat_minor": 1
}
