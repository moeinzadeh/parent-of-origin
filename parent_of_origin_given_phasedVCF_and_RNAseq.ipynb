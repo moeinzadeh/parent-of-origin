{
 "cells": [
  {
   "cell_type": "markdown",
   "metadata": {},
   "source": [
    "# Internal setting\n"
   ]
  },
  {
   "cell_type": "code",
   "execution_count": 1,
   "metadata": {},
   "outputs": [],
   "source": [
    "import params_molgen\n",
    "params = params_molgen\n"
   ]
  },
  {
   "cell_type": "code",
   "execution_count": 3,
   "metadata": {},
   "outputs": [
    {
     "name": "stdout",
     "output_type": "stream",
     "text": [
      "excluded unphased variants\n",
      "excluded multinucleotide variants\n",
      "minimum mapping quality is 255\n",
      "samtools view L18098Aligned.sortedByCoord.out.bam | cut -f 5 | sort -nr | uniq -c | head\n",
      "89282132 255\n",
      "7706264 3\n",
      "2162614 1\n",
      "927020 0\n",
      "RNAseqbams = ['L18098Aligned.sortedByCoord.out.bam', 'L18099Aligned.sortedByCoord.out.bam',\n",
      "                  'L18100Aligned.sortedByCoord.out.bam']\n",
      "path = '/confidential/FamilyR13_data/moeinzadeh/ossifican_progressiva/'\n",
      "vcf_file = '/confidential/FamilyR13_data/moeinzadeh/ossifican_progressiva/brusco_uwcmg_eho_1.HF.final.phased.vcf.gz'\n",
      "individual_name = '176126'\n",
      "interval_string = 'X:1-155270560'\n",
      "#interval_string = 'X:153070560-155270560'\n",
      "open_left_region = 0\n",
      "open_right_region = 0\n",
      "readmefile = 'readme_molgen.txt'\n",
      "\n",
      "\n",
      "\n",
      "\n"
     ]
    }
   ],
   "source": [
    "for line in open(params.readmefile):\n",
    "    print (line.rstrip())\n",
    "    \n",
    "for line in open(\"params_molgen.py\"):\n",
    "    print (line.rstrip())    "
   ]
  },
  {
   "cell_type": "markdown",
   "metadata": {},
   "source": [
    "# Code "
   ]
  },
  {
   "cell_type": "code",
   "execution_count": 4,
   "metadata": {},
   "outputs": [],
   "source": [
    "import numpy as np\n",
    "import vcf\n",
    "import pandas as pd\n",
    "import seaborn as sns\n",
    "import matplotlib.pyplot as plt\n",
    "import math\n",
    "import pysam\n",
    "\n",
    "\n",
    "def count_reads(chrm, view_start, view_end, samfiles, vcf_reader):\n",
    "    mother = []\n",
    "    father = []\n",
    "    coordinates = []\n",
    "    mother_is_ref = []\n",
    "    replicate = []\n",
    "\n",
    "    for Record in vcf_reader.fetch(chrm, view_start, view_end):  # doctest: +SKIP\n",
    "        genotype = Record.genotype(individual_name)['GT']\n",
    "\n",
    "        # not phased or homozygous\n",
    "        if not (\"|\" == genotype[1]) or genotype[0]==genotype[2]:\n",
    "            continue\n",
    "\n",
    "        # multi nucleotide polymorphism\n",
    "        one_nc_snp = True\n",
    "        for var in Record.ALT:\n",
    "            if len(var) > 1:\n",
    "                one_nc_snp = False\n",
    "        if len(Record.REF) > 1 or not one_nc_snp:\n",
    "            continue\n",
    "\n",
    "\n",
    "        snp = Record.POS\n",
    "        mp_cnt = {}\n",
    "\n",
    "        bo_first = True\n",
    "        for rep, samfile in zip(range(len(samfiles)),samfiles):\n",
    "            for pileupcolumn in samfile.pileup(chrm, snp - 1, snp):\n",
    "                if bo_first:\n",
    "                    bo_first = False\n",
    "                    #print(Record.CHROM, Record.POS, Record.ID, Record.REF, Record.ALT, Record.genotype(individual_name)['GT'])\n",
    "                if pileupcolumn.pos == snp - 1:\n",
    "                    for pileupread in pileupcolumn.pileups:\n",
    "                        if not pileupread.is_del and pileupread.alignment.mapping_quality >= 255:\n",
    "                            mp_cnt[pileupread.alignment.query_sequence[pileupread.query_position]] = mp_cnt.get(\n",
    "                                pileupread.alignment.query_sequence[pileupread.query_position], 0) + 1\n",
    "            \n",
    "            # mapping quality is lower \n",
    "            if len(mp_cnt) == 0:\n",
    "                continue\n",
    "            \n",
    "            vars = [Record.REF] + [str(v) for v in Record.ALT]\n",
    "            coordinates += [Record.POS]\n",
    "            replicate += [rep]\n",
    "            \n",
    "            #print (mp_cnt,vars)\n",
    "            mothers_allele = vars[int(genotype[0])]\n",
    "            fathers_allele = vars[int(genotype[2])]\n",
    "            \n",
    "            if mothers_allele in mp_cnt:\n",
    "                mother += [mp_cnt[mothers_allele]]\n",
    "            else:\n",
    "                mother += [0]\n",
    "\n",
    "            if fathers_allele in mp_cnt:\n",
    "                father += [mp_cnt[fathers_allele]]\n",
    "            else:\n",
    "                father += [0]\n",
    "            #print (mother[-1],father[-1])\n",
    "            \n",
    "            if genotype[0] == \"0\":\n",
    "                mother_is_ref += [True]\n",
    "            else:\n",
    "                mother_is_ref += [False]\n",
    "\n",
    "\n",
    "    m = np.array(mother, dtype=np.float)\n",
    "    f = np.array(father, dtype=np.float)\n",
    "    c = np.array(coordinates, dtype=np.int)\n",
    "    ref = np.array(mother_is_ref, dtype=np.bool)\n",
    "    rep = np.array(replicate,dtype=np.int)\n",
    "    return m, f, c, ref,rep\n",
    "\n",
    "\n",
    "\n"
   ]
  },
  {
   "cell_type": "code",
   "execution_count": 5,
   "metadata": {},
   "outputs": [],
   "source": [
    "\n",
    "bams = [pysam.AlignmentFile(params.path + f) for f in params.RNAseqbams]\n",
    "vcf_reader = vcf.Reader(open(params.vcf_file))\n",
    "individual_name = params.individual_name\n",
    "interval_string = params.interval_string\n",
    "interval_string = params.interval_string\n",
    "open_left_region = params.open_left_region\n",
    "open_right_region = params.open_right_region\n",
    "\n"
   ]
  },
  {
   "cell_type": "code",
   "execution_count": 6,
   "metadata": {},
   "outputs": [
    {
     "name": "stdout",
     "output_type": "stream",
     "text": [
      "done\n"
     ]
    }
   ],
   "source": [
    "df_main = pd.DataFrame({'Mother':[], 'Father':[],'Coordinate':[],'MotherIsRef':[], 'Rep': []})\n",
    "\n",
    "for inx_replicate in range(len(bams)):\n",
    "    interval = interval_string.replace(\",\",'')\n",
    "    chrm = interval.split(\":\")[0]\n",
    "    sv_start = int(interval.split(\":\")[1].split(\"-\")[0])\n",
    "    sv_end = int(interval.split(\":\")[1].split(\"-\")[1])\n",
    "    view_start = sv_start - open_left_region\n",
    "    view_end = sv_end + open_right_region\n",
    "    m,f,c,ref,rep= count_reads(chrm,view_start,view_end,bams,vcf_reader)\n",
    "    d = {'Mother':m, 'Father':f,'Coordinate':c,'MotherIsRef':ref, 'Rep': rep}\n",
    "    df_main = df_main.append(pd.DataFrame(d))\n",
    "\n",
    "df_main['Ratio'] = df_main['Mother'] / df_main['Father']\n",
    "print ('done')"
   ]
  },
  {
   "cell_type": "code",
   "execution_count": 7,
   "metadata": {},
   "outputs": [
    {
     "data": {
      "text/html": [
       "<div>\n",
       "<style scoped>\n",
       "    .dataframe tbody tr th:only-of-type {\n",
       "        vertical-align: middle;\n",
       "    }\n",
       "\n",
       "    .dataframe tbody tr th {\n",
       "        vertical-align: top;\n",
       "    }\n",
       "\n",
       "    .dataframe thead th {\n",
       "        text-align: right;\n",
       "    }\n",
       "</style>\n",
       "<table border=\"1\" class=\"dataframe\">\n",
       "  <thead>\n",
       "    <tr style=\"text-align: right;\">\n",
       "      <th></th>\n",
       "      <th>Coordinate</th>\n",
       "      <th>Father</th>\n",
       "      <th>Mother</th>\n",
       "      <th>MotherIsRef</th>\n",
       "      <th>Rep</th>\n",
       "      <th>Ratio</th>\n",
       "    </tr>\n",
       "  </thead>\n",
       "  <tbody>\n",
       "    <tr>\n",
       "      <th>0</th>\n",
       "      <td>192921.0</td>\n",
       "      <td>0.0</td>\n",
       "      <td>1.0</td>\n",
       "      <td>1.0</td>\n",
       "      <td>2.0</td>\n",
       "      <td>inf</td>\n",
       "    </tr>\n",
       "    <tr>\n",
       "      <th>1</th>\n",
       "      <td>193433.0</td>\n",
       "      <td>1.0</td>\n",
       "      <td>1.0</td>\n",
       "      <td>1.0</td>\n",
       "      <td>1.0</td>\n",
       "      <td>1.000000</td>\n",
       "    </tr>\n",
       "    <tr>\n",
       "      <th>2</th>\n",
       "      <td>193433.0</td>\n",
       "      <td>1.0</td>\n",
       "      <td>1.0</td>\n",
       "      <td>1.0</td>\n",
       "      <td>2.0</td>\n",
       "      <td>1.000000</td>\n",
       "    </tr>\n",
       "    <tr>\n",
       "      <th>3</th>\n",
       "      <td>193438.0</td>\n",
       "      <td>1.0</td>\n",
       "      <td>1.0</td>\n",
       "      <td>1.0</td>\n",
       "      <td>1.0</td>\n",
       "      <td>1.000000</td>\n",
       "    </tr>\n",
       "    <tr>\n",
       "      <th>4</th>\n",
       "      <td>193438.0</td>\n",
       "      <td>1.0</td>\n",
       "      <td>1.0</td>\n",
       "      <td>1.0</td>\n",
       "      <td>2.0</td>\n",
       "      <td>1.000000</td>\n",
       "    </tr>\n",
       "  </tbody>\n",
       "</table>\n",
       "</div>"
      ],
      "text/plain": [
       "   Coordinate  Father  Mother  MotherIsRef  Rep     Ratio\n",
       "0    192921.0     0.0     1.0          1.0  2.0       inf\n",
       "1    193433.0     1.0     1.0          1.0  1.0  1.000000\n",
       "2    193433.0     1.0     1.0          1.0  2.0  1.000000\n",
       "3    193438.0     1.0     1.0          1.0  1.0  1.000000\n",
       "4    193438.0     1.0     1.0          1.0  2.0  1.000000"
      ]
     },
     "execution_count": 7,
     "metadata": {},
     "output_type": "execute_result"
    }
   ],
   "source": [
    "df_main.head()"
   ]
  },
  {
   "cell_type": "code",
   "execution_count": 8,
   "metadata": {},
   "outputs": [
    {
     "name": "stderr",
     "output_type": "stream",
     "text": [
      "/confidential/FamilyR13/CODE/Anaconda2/lib/python2.7/site-packages/scipy/stats/stats.py:1713: FutureWarning: Using a non-tuple sequence for multidimensional indexing is deprecated; use `arr[tuple(seq)]` instead of `arr[seq]`. In the future this will be interpreted as an array index, `arr[np.array(seq)]`, which will result either in an error or a different result.\n",
      "  return np.add.reduce(sorted[indexer] * weights, axis=axis) / sumval\n"
     ]
    },
    {
     "data": {
      "text/plain": [
       "(0, 300)"
      ]
     },
     "execution_count": 8,
     "metadata": {},
     "output_type": "execute_result"
    },
    {
     "data": {
      "image/png": "[encoded data removed]",
      "text/plain": [
       "<Figure size 411.875x360 with 1 Axes>"
      ]
     },
     "metadata": {
      "needs_background": "light"
     },
     "output_type": "display_data"
    }
   ],
   "source": [
    "df_main_removeInf = df_main[(df_main['Mother'] != 0.0) & (df_main['Father'] != 0.0)]\n",
    "sns.lmplot(x='Mother',y='Father',hue='Rep',data=df_main_removeInf,markers=['o','x','.'])\n",
    "ax = plt.gca()\n",
    "ax.set_title(\"Read count per SNP\")\n",
    "ax.set_xlim(0,300)\n",
    "ax.set_ylim(0,300)"
   ]
  },
  {
   "cell_type": "code",
   "execution_count": 9,
   "metadata": {},
   "outputs": [
    {
     "data": {
      "text/html": [
       "<div>\n",
       "<style scoped>\n",
       "    .dataframe tbody tr th:only-of-type {\n",
       "        vertical-align: middle;\n",
       "    }\n",
       "\n",
       "    .dataframe tbody tr th {\n",
       "        vertical-align: top;\n",
       "    }\n",
       "\n",
       "    .dataframe thead th {\n",
       "        text-align: right;\n",
       "    }\n",
       "</style>\n",
       "<table border=\"1\" class=\"dataframe\">\n",
       "  <thead>\n",
       "    <tr style=\"text-align: right;\">\n",
       "      <th></th>\n",
       "      <th>Coordinate</th>\n",
       "      <th>Father</th>\n",
       "      <th>Mother</th>\n",
       "      <th>MotherIsRef</th>\n",
       "      <th>Rep</th>\n",
       "      <th>Ratio</th>\n",
       "    </tr>\n",
       "  </thead>\n",
       "  <tbody>\n",
       "    <tr>\n",
       "      <th>1</th>\n",
       "      <td>193433.0</td>\n",
       "      <td>1.0</td>\n",
       "      <td>1.0</td>\n",
       "      <td>1.0</td>\n",
       "      <td>1.0</td>\n",
       "      <td>1.0</td>\n",
       "    </tr>\n",
       "    <tr>\n",
       "      <th>2</th>\n",
       "      <td>193433.0</td>\n",
       "      <td>1.0</td>\n",
       "      <td>1.0</td>\n",
       "      <td>1.0</td>\n",
       "      <td>2.0</td>\n",
       "      <td>1.0</td>\n",
       "    </tr>\n",
       "    <tr>\n",
       "      <th>3</th>\n",
       "      <td>193438.0</td>\n",
       "      <td>1.0</td>\n",
       "      <td>1.0</td>\n",
       "      <td>1.0</td>\n",
       "      <td>1.0</td>\n",
       "      <td>1.0</td>\n",
       "    </tr>\n",
       "    <tr>\n",
       "      <th>4</th>\n",
       "      <td>193438.0</td>\n",
       "      <td>1.0</td>\n",
       "      <td>1.0</td>\n",
       "      <td>1.0</td>\n",
       "      <td>2.0</td>\n",
       "      <td>1.0</td>\n",
       "    </tr>\n",
       "    <tr>\n",
       "      <th>8</th>\n",
       "      <td>193650.0</td>\n",
       "      <td>1.0</td>\n",
       "      <td>1.0</td>\n",
       "      <td>1.0</td>\n",
       "      <td>1.0</td>\n",
       "      <td>1.0</td>\n",
       "    </tr>\n",
       "  </tbody>\n",
       "</table>\n",
       "</div>"
      ],
      "text/plain": [
       "   Coordinate  Father  Mother  MotherIsRef  Rep  Ratio\n",
       "1    193433.0     1.0     1.0          1.0  1.0    1.0\n",
       "2    193433.0     1.0     1.0          1.0  2.0    1.0\n",
       "3    193438.0     1.0     1.0          1.0  1.0    1.0\n",
       "4    193438.0     1.0     1.0          1.0  2.0    1.0\n",
       "8    193650.0     1.0     1.0          1.0  1.0    1.0"
      ]
     },
     "execution_count": 9,
     "metadata": {},
     "output_type": "execute_result"
    }
   ],
   "source": [
    "df_main_removeInf.head()\n"
   ]
  },
  {
   "cell_type": "code",
   "execution_count": 10,
   "metadata": {},
   "outputs": [
    {
     "data": {
      "text/plain": [
       "(0, 10145.0)"
      ]
     },
     "execution_count": 10,
     "metadata": {},
     "output_type": "execute_result"
    },
    {
     "data": {
      "image/png": "[encoded data removed]",
      "text/plain": [
       "<Figure size 411.875x360 with 1 Axes>"
      ]
     },
     "metadata": {
      "needs_background": "light"
     },
     "output_type": "display_data"
    }
   ],
   "source": [
    "sns.lmplot(x='Mother',y='Father',hue='Rep',data=df_main_removeInf,markers=['o','x','.'])\n",
    "ax = plt.gca()\n",
    "ax.set_title(\"Read count per SNP\")\n",
    "mx = max(df_main_removeInf['Mother'].max(), df_main_removeInf['Father'].max())\n",
    "ax.set_xlim(0,mx)\n",
    "ax.set_ylim(0,mx)\n",
    "\n"
   ]
  },
  {
   "cell_type": "code",
   "execution_count": 11,
   "metadata": {},
   "outputs": [
    {
     "data": {
      "image/png": "[encoded data removed]",
      "text/plain": [
       "<Figure size 432x288 with 1 Axes>"
      ]
     },
     "metadata": {
      "needs_background": "light"
     },
     "output_type": "display_data"
    },
    {
     "data": {
      "image/png": "[encoded data removed]",
      "text/plain": [
       "<Figure size 432x288 with 1 Axes>"
      ]
     },
     "metadata": {
      "needs_background": "light"
     },
     "output_type": "display_data"
    }
   ],
   "source": [
    "plt.figure()\n",
    "ax = sns.boxplot(x='Rep',y='Ratio',data=df_main_removeInf,hue='MotherIsRef')\n",
    "ax.set_yscale('log')\n",
    "\n",
    "\n",
    "plt.figure()\n",
    "ax = sns.boxplot(x='Rep',y='Ratio',data=df_main_removeInf)\n",
    "ax.set_yscale('log')"
   ]
  },
  {
   "cell_type": "code",
   "execution_count": 12,
   "metadata": {},
   "outputs": [],
   "source": [
    "#df_zero = df_main[(df_main['Mother']==0.0) | (df_main['Father']==0.0) ]\n",
    "only_mother = df_main['Father'] == 0.0\n",
    "only_father = df_main['Mother'] == 0.0\n",
    "\n",
    "df_main['Status'] = np.where(only_mother, 'Only mother', np.where(only_father,'Only father','Both'))\n",
    "df_main['Sum count'] = df_main['Mother'] + df_main['Father']\n",
    "#ax = sns.boxplot(x='Rep',y='Mother',data=df_main[df_main['False'])"
   ]
  },
  {
   "cell_type": "code",
   "execution_count": 13,
   "metadata": {},
   "outputs": [
    {
     "data": {
      "image/png": "[encoded data removed]",
      "text/plain": [
       "<Figure size 432x288 with 1 Axes>"
      ]
     },
     "metadata": {
      "needs_background": "light"
     },
     "output_type": "display_data"
    }
   ],
   "source": [
    "ax = sns.boxplot(x='Status',y='Sum count',data=df_main)\n",
    "ax.set_yscale('log')\n"
   ]
  },
  {
   "cell_type": "code",
   "execution_count": 14,
   "metadata": {},
   "outputs": [
    {
     "data": {
      "image/png": "[encoded data removed]",
      "text/plain": [
       "<Figure size 432x288 with 1 Axes>"
      ]
     },
     "metadata": {
      "needs_background": "light"
     },
     "output_type": "display_data"
    }
   ],
   "source": [
    "ax = sns.boxplot(x = 'variable', y = 'value', data=pd.melt(df_main[['Mother','Father']]))\n",
    "ax.set_title(\"\")\n",
    "ax.set_yscale('log')"
   ]
  },
  {
   "cell_type": "code",
   "execution_count": null,
   "metadata": {},
   "outputs": [],
   "source": []
  },
  {
   "cell_type": "code",
   "execution_count": null,
   "metadata": {},
   "outputs": [],
   "source": []
  },
  {
   "cell_type": "code",
   "execution_count": null,
   "metadata": {},
   "outputs": [],
   "source": []
  }
 ],
 "metadata": {
  "kernelspec": {
   "display_name": "Python 2",
   "language": "python",
   "name": "python2"
  },
  "language_info": {
   "codemirror_mode": {
    "name": "ipython",
    "version": 2
   },
   "file_extension": ".py",
   "mimetype": "text/x-python",
   "name": "python",
   "nbconvert_exporter": "python",
   "pygments_lexer": "ipython2",
   "version": "2.7.15"
  }
 },
 "nbformat": 4,
 "nbformat_minor": 1
}
